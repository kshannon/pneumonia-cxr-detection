{
 "cells": [
  {
   "cell_type": "code",
   "execution_count": 2,
   "metadata": {},
   "outputs": [
    {
     "name": "stderr",
     "output_type": "stream",
     "text": [
      "Using TensorFlow backend.\n"
     ]
    }
   ],
   "source": [
    "import keras as K"
   ]
  },
  {
   "cell_type": "code",
   "execution_count": 3,
   "metadata": {},
   "outputs": [],
   "source": [
    "import pandas as pd\n",
    "import os"
   ]
  },
  {
   "cell_type": "code",
   "execution_count": 4,
   "metadata": {},
   "outputs": [],
   "source": [
    "#train_dir = \"../../training_images\"\n",
    "train_dir = \"/Users/cvsox/data/RSNA-pneumonia/stage_1/stage_1_train_images\"\n",
    "train_csv = os.path.join(train_dir, \"../\" )"
   ]
  },
  {
   "cell_type": "code",
   "execution_count": 5,
   "metadata": {},
   "outputs": [],
   "source": [
    "#df = pd.read_csv(os.path.join(train_dir, \"train_gen.csv\"))\n",
    "df = pd.read_csv(os.path.join(train_csv, \"train_gen.csv\"))"
   ]
  },
  {
   "cell_type": "code",
   "execution_count": 6,
   "metadata": {},
   "outputs": [
    {
     "data": {
      "text/plain": [
       "patientId      03cd7a5b-d5d7-40a1-81b1-c4264920530a\n",
       "x1                                              667\n",
       "y1                                              125\n",
       "width1                                          255\n",
       "height1                                         749\n",
       "confidence1                                       1\n",
       "x2                                              284\n",
       "y2                                              170\n",
       "width2                                          215\n",
       "height2                                         571\n",
       "confidence2                                       1\n",
       "x3                                                0\n",
       "y3                                                0\n",
       "width3                                            0\n",
       "height3                                           0\n",
       "confidence3                                       0\n",
       "x4                                                0\n",
       "y4                                                0\n",
       "width4                                            0\n",
       "height4                                           0\n",
       "confidence4                                       0\n",
       "Name: 100, dtype: object"
      ]
     },
     "execution_count": 6,
     "metadata": {},
     "output_type": "execute_result"
    }
   ],
   "source": [
    "df.iloc[100]"
   ]
  },
  {
   "cell_type": "code",
   "execution_count": 131,
   "metadata": {},
   "outputs": [],
   "source": [
    "import SimpleITK as sitk\n",
    "import numpy as np\n",
    "from skimage.transform import resize\n",
    "\n",
    "class DataGenerator(K.utils.Sequence):\n",
    "    \"\"\"\n",
    "    Generates data for Keras/TensorFlow\n",
    "    Code based on https://stanford.edu/~shervine/blog/keras-how-to-generate-data-on-the-fly\n",
    "    This uses the Keras Sequence which is better for multiprocessing.\n",
    "    The main input the dataloader is a list of filenames containing\n",
    "    the images to load. \n",
    "    If you have a different type of dataset, you'll just need to\n",
    "    change the loading code in self.__data_generation to return\n",
    "    the correct image and label.\n",
    "    \"\"\"\n",
    "    \n",
    "    def __init__(self,\n",
    "                 df,     # List of file names for raw images/masks\n",
    "                 path= \"../../training_images\", # Path for images\n",
    "                 batch_size=64,  # batch size\n",
    "                 dim=(128,128),  # Dimension of images\n",
    "                 n_in_channels=1,  # Number of channels in image\n",
    "                 shuffle=True,  # Shuffle list after each epoch\n",
    "                 augment=False,   # Augment images\n",
    "                 seed=816):     # Seed for random number generator\n",
    "        \"\"\"\n",
    "        Initialization\n",
    "        \"\"\"\n",
    "        self.dim = dim\n",
    "        self.path = path\n",
    "        self.batch_size = batch_size\n",
    "        self.df = df\n",
    "        self.n_in_channels = n_in_channels\n",
    "        self.shuffle = shuffle\n",
    "        self.augment = augment\n",
    "        self.originalsize = self.get_size()\n",
    "        self.scale = self.get_scale()\n",
    "        \n",
    "        np.random.seed(seed)\n",
    "        self.on_epoch_end()   # Generate the sequence\n",
    "\n",
    "    def __len__(self):\n",
    "        \"\"\"\n",
    "        The number of batches per epoch\n",
    "        \"\"\"\n",
    "        return len(self.df) // self.batch_size\n",
    "\n",
    "    def __getitem__(self, index):\n",
    "        \"\"\"\n",
    "        Generate one batch of data\n",
    "        \"\"\"\n",
    "        # Generate indicies of the batch\n",
    "        indexes = np.sort(\n",
    "            self.indexes[index*self.batch_size:(index+1)*self.batch_size])\n",
    "\n",
    "        # Generate data\n",
    "        X, y = self.__data_generation(indexes)\n",
    "\n",
    "        return X, y\n",
    "    \n",
    "    def normalize(self, image):\n",
    "        \n",
    "        \"\"\"\n",
    "        normalize each image by subtracting its mean and divide by the standard deviation\n",
    "      \n",
    "        \"\"\"\n",
    "        image = (image - np.mean(image))/(np.std(image))\n",
    "        \n",
    "        return image\n",
    "    \n",
    "    def resize_image(self, image):\n",
    "        \n",
    "        \"\"\"\n",
    "        resize the image into new height and new width\n",
    "        \n",
    "        \"\"\"\n",
    "        \n",
    "        image = resize(image, self.dim, anti_aliasing=True, mode=\"constant\")\n",
    "        return image\n",
    "    \n",
    "    def get_size(self):\n",
    "        \"\"\"\n",
    "        get the image size\n",
    "        \n",
    "        \"\"\"\n",
    "        \n",
    "        info = self.df.iloc[0]\n",
    "        itkimage = sitk.ReadImage(os.path.join(self.path, info[\"patientId\"] + \".dcm\"))\n",
    "            \n",
    "        img = np.moveaxis(sitk.GetArrayFromImage(itkimage), 0, -1)\n",
    "        \n",
    "        return img.shape[0], img.shape[1]\n",
    "    \n",
    "    def get_scale(self):\n",
    "        \"\"\"\n",
    "        calculate the scale of the output image to the input image\n",
    "        \"\"\"\n",
    "        info = self.df.iloc[0]\n",
    "        itkimage = sitk.ReadImage(os.path.join(self.path, info[\"patientId\"] + \".dcm\"))\n",
    "            \n",
    "        img = np.moveaxis(sitk.GetArrayFromImage(itkimage), 0, -1)\n",
    "        \n",
    "        return self.dim[0]/img.shape[0], self.dim[1]/img.shape[1]\n",
    "\n",
    "    def on_epoch_end(self):\n",
    "        \"\"\"\n",
    "        Updates indices after each epoch\n",
    "        If shuffle is true, then it will shuffle the training set\n",
    "        after every epoch.\n",
    "        \"\"\"\n",
    "        self.indexes = np.arange(len(self.df))\n",
    "        if self.shuffle:\n",
    "            np.random.shuffle(self.indexes)\n",
    "            \n",
    "    def scale_bbox(self, bbox):\n",
    "        \n",
    "        \"\"\"\n",
    "        scaling bbox\n",
    "        \"\"\"\n",
    "        bbox = np.array(bbox)\n",
    "        bbox[0::5] = bbox[0::5]/self.originalsize[0]\n",
    "        bbox[1::5] = bbox[1::5]/self.originalsize[1]\n",
    "        bbox[2::5] = bbox[2::5]/self.originalsize[0]\n",
    "        bbox[3::5] = bbox[3::5]/self.originalsize[1]\n",
    "        \n",
    "        return bbox\n",
    "    \n",
    "    def data_sample(self):\n",
    "        \"\"\"\n",
    "        raise todo\n",
    "        \"\"\"\n",
    "#         imgs = np.zeros((self.batch_size, *self.dim, self.n_in_channels))\n",
    "        patient_image = self.df[self.df[\"confidence1\"]==1].sample(1)\n",
    "        img_reader = sitk.ReadImage(os.path.join(train_dir, patient_image['patientId'].values[0] + \".dcm\"))\n",
    "        img = np.moveaxis(sitk.GetArrayFromImage(img_reader), 0, -1)\n",
    "        scalex = img.shape[0]\n",
    "        scaley = img.shape[1]\n",
    "        img = self.normalize(self.resize_image(img))\n",
    "#       imgs[idx,] = img\n",
    "        bbox = patient_image.iloc[:, 1:6].values.tolist()[0]\n",
    "        bbox[0] = bbox[0]/scalex\n",
    "        bbox[1] = bbox[1]/scaley\n",
    "        bbox[2] = bbox[2]/scalex\n",
    "        bbox[3] = bbox[3]/scaley\n",
    "\n",
    "        return np.expand_dims(img, 0), bbox\n",
    "\n",
    "    def data_sample_noresize(self):\n",
    "        \"\"\"\n",
    "        raise todo\n",
    "        \"\"\"\n",
    "#         imgs = np.zeros((self.batch_size, *self.dim, self.n_in_channels))\n",
    "        patient_image = self.df[self.df[\"confidence1\"]==1].sample(1)\n",
    "        img_reader = sitk.ReadImage(os.path.join(train_dir, patient_image['patientId'].values[0] + \".dcm\"))\n",
    "        img = np.moveaxis(sitk.GetArrayFromImage(img_reader), 0, -1)\n",
    "        scalex = 1\n",
    "        scaley = 1\n",
    "        #img = self.normalize(self.resize_image(img))\n",
    "#       imgs[idx,] = img\n",
    "        bbox = patient_image.iloc[:, 1:6].values.tolist()[0]\n",
    "        bbox[0] = bbox[0]/scalex\n",
    "        bbox[1] = bbox[1]/scaley\n",
    "        bbox[2] = bbox[2]/scalex\n",
    "        bbox[3] = bbox[3]/scaley\n",
    "\n",
    "        return np.expand_dims(img, 0), bbox\n",
    "   \n",
    "    def __data_generation(self, list_IDs_temp):\n",
    "        \"\"\"\n",
    "        Generates data containing batch_size samples\n",
    "        This just reads the list of filename to load.\n",
    "        Change this to suit your dataset.\n",
    "        \"\"\"\n",
    "\n",
    "        # Make empty arrays for the images and bbox batches\n",
    "        imgs = np.zeros((self.batch_size, *self.dim, self.n_in_channels))\n",
    "        \n",
    "        bboxes = np.zeros((self.batch_size, 5))  # four boxes of [X,Y,H,W,Confidence]\n",
    "\n",
    "        for idx, file in enumerate(list_IDs_temp):\n",
    "            \n",
    "            info = self.df.iloc[file]\n",
    "            itkimage = sitk.ReadImage(os.path.join(self.path, info[\"patientId\"] + \".dcm\"))\n",
    "            \n",
    "            img = np.moveaxis(sitk.GetArrayFromImage(itkimage), 0, -1)\n",
    "            img = self.normalize(self.resize_image(img))\n",
    "            imgs[idx,] = img\n",
    "            \n",
    "            # bboxes\n",
    "            bboxes[idx,] = self.scale_bbox(list(info)[1:6])\n",
    "            \n",
    "        return imgs, bboxes"
   ]
  },
  {
   "cell_type": "code",
   "execution_count": 132,
   "metadata": {},
   "outputs": [],
   "source": [
    "training_data_params = {\"dim\": (128,128),\n",
    "                        \"batch_size\": 32,\n",
    "                        \"n_in_channels\": 1,\n",
    "                        \"shuffle\": True,\n",
    "                        \"seed\": 810,\n",
    "                        \"path\": train_dir}\n",
    "\n",
    "training_generator = DataGenerator(df=df, **training_data_params)"
   ]
  },
  {
   "cell_type": "code",
   "execution_count": 149,
   "metadata": {},
   "outputs": [
    {
     "name": "stdout",
     "output_type": "stream",
     "text": [
      "(5,) 0\n",
      "1083.0\n"
     ]
    },
    {
     "data": {
      "image/png": "[encoded data removed]",
      "text/plain": [
       "<matplotlib.figure.Figure at 0x15dfe24a8>"
      ]
     },
     "metadata": {},
     "output_type": "display_data"
    }
   ],
   "source": [
    "# SAMPLE IMG CODE\n",
    "sample_img = training_generator.data_sample_noresize()\n",
    "#print(sample_img.shape)\n",
    "\n",
    "fig,ax = plt.subplots()\n",
    "\n",
    "idx = 0\n",
    "print(np.shape(sample_img[1]) , 0)\n",
    "\n",
    "ax.imshow(sample_img[0][idx,:,:,0],cmap=plt.cm.gist_gray)\n",
    "x = sample_img[1][0]\n",
    "y = sample_img[1][1]\n",
    "h = sample_img[1][2]\n",
    "w = sample_img[1][3]\n",
    "rect = Rectangle((x,y),w,h,linewidth=1,edgecolor='r',facecolor='none')\n",
    "ax.add_patch(rect)\n",
    "ax.text(x+w//2,y+h//2, str(round(sample_img[1][4],0)), fontsize=15)\\\n",
    "\n",
    "print(x+w)"
   ]
  },
  {
   "cell_type": "code",
   "execution_count": 136,
   "metadata": {},
   "outputs": [
    {
     "ename": "AttributeError",
     "evalue": "'tuple' object has no attribute 'shape'",
     "output_type": "error",
     "traceback": [
      "\u001b[0;31m---------------------------------------------------------------------------\u001b[0m",
      "\u001b[0;31mAttributeError\u001b[0m                            Traceback (most recent call last)",
      "\u001b[0;32m<ipython-input-136-3965b1052b89>\u001b[0m in \u001b[0;36m<module>\u001b[0;34m()\u001b[0m\n\u001b[1;32m      1\u001b[0m \u001b[0ma\u001b[0m \u001b[0;34m=\u001b[0m \u001b[0mtraining_generator\u001b[0m\u001b[0;34m.\u001b[0m\u001b[0m__getitem__\u001b[0m\u001b[0;34m(\u001b[0m\u001b[0;36m1\u001b[0m\u001b[0;34m)\u001b[0m\u001b[0;34m\u001b[0m\u001b[0m\n\u001b[0;32m----> 2\u001b[0;31m \u001b[0ma\u001b[0m\u001b[0;34m.\u001b[0m\u001b[0mshape\u001b[0m\u001b[0;34m\u001b[0m\u001b[0m\n\u001b[0m",
      "\u001b[0;31mAttributeError\u001b[0m: 'tuple' object has no attribute 'shape'"
     ]
    }
   ],
   "source": [
    "a = training_generator.__getitem__(1)\n",
    "a.shape"
   ]
  },
  {
   "cell_type": "code",
   "execution_count": 18,
   "metadata": {},
   "outputs": [],
   "source": [
    "import matplotlib.pyplot as plt\n",
    "from matplotlib.patches import Rectangle\n",
    "%matplotlib inline"
   ]
  },
  {
   "cell_type": "code",
   "execution_count": 11,
   "metadata": {},
   "outputs": [
    {
     "data": {
      "text/plain": [
       "<matplotlib.text.Text at 0x122a35b38>"
      ]
     },
     "execution_count": 11,
     "metadata": {},
     "output_type": "execute_result"
    },
    {
     "data": {
      "image/png": "[encoded data removed]",
      "text/plain": [
       "<matplotlib.figure.Figure at 0x137678f98>"
      ]
     },
     "metadata": {},
     "output_type": "display_data"
    }
   ],
   "source": [
    "fig,ax = plt.subplots()\n",
    "\n",
    "idx = 1\n",
    "ax.imshow(a[0][idx,:,:,0])\n",
    "x = a[1][idx,:][0] * training_data_params[\"dim\"][0]\n",
    "y = a[1][idx,:][1] * training_data_params[\"dim\"][1]\n",
    "h = a[1][idx,:][2] * training_data_params[\"dim\"][0]\n",
    "w = a[1][idx,:][3] * training_data_params[\"dim\"][1]\n",
    "rect = Rectangle((x,y),w,h,linewidth=1,edgecolor='r',facecolor='none')\n",
    "ax.add_patch(rect)\n",
    "ax.text(x+w//2,y+h//2, str(round(a[1][idx,:][4],0)), fontsize=15)\n",
    "\n"
   ]
  },
  {
   "cell_type": "code",
   "execution_count": 12,
   "metadata": {},
   "outputs": [],
   "source": [
    "import keras \n",
    "from keras.models import Sequential\n",
    "from keras.layers import Dense, Dropout, Flatten\n",
    "from keras.layers import Conv2D, MaxPooling2D\n",
    "from keras.callbacks import TensorBoard\n",
    "\n",
    "def first_model(width, height, channel):\n",
    "    num_classes = 5\n",
    "\n",
    "    \n",
    "    model = Sequential()\n",
    "    model.add(Conv2D(32, kernel_size=(3, 3),\n",
    "          activation='relu',\n",
    "          input_shape=(height, width, channel)))\n",
    "    model.add(Conv2D(64, (3, 3), activation='relu'))\n",
    "    model.add(MaxPooling2D(pool_size=(2, 2)))\n",
    "    model.add(Dropout(0.25))\n",
    "    model.add(Flatten())\n",
    "    model.add(Dense(128, activation='relu'))\n",
    "    model.add(Dropout(0.5))\n",
    "    model.add(Dense(num_classes, activation=None))\n",
    "    \n",
    "    model.compile(loss=\"mse\",\n",
    "              optimizer=keras.optimizers.Adadelta(),\n",
    "              metrics=['mse'])\n",
    "    model.summary()\n",
    "    return model\n",
    "    "
   ]
  },
  {
   "cell_type": "code",
   "execution_count": 13,
   "metadata": {},
   "outputs": [
    {
     "name": "stdout",
     "output_type": "stream",
     "text": [
      "_________________________________________________________________\n",
      "Layer (type)                 Output Shape              Param #   \n",
      "=================================================================\n",
      "conv2d_1 (Conv2D)            (None, 126, 126, 32)      320       \n",
      "_________________________________________________________________\n",
      "conv2d_2 (Conv2D)            (None, 124, 124, 64)      18496     \n",
      "_________________________________________________________________\n",
      "max_pooling2d_1 (MaxPooling2 (None, 62, 62, 64)        0         \n",
      "_________________________________________________________________\n",
      "dropout_1 (Dropout)          (None, 62, 62, 64)        0         \n",
      "_________________________________________________________________\n",
      "flatten_1 (Flatten)          (None, 246016)            0         \n",
      "_________________________________________________________________\n",
      "dense_1 (Dense)              (None, 128)               31490176  \n",
      "_________________________________________________________________\n",
      "dropout_2 (Dropout)          (None, 128)               0         \n",
      "_________________________________________________________________\n",
      "dense_2 (Dense)              (None, 5)                 645       \n",
      "=================================================================\n",
      "Total params: 31,509,637\n",
      "Trainable params: 31,509,637\n",
      "Non-trainable params: 0\n",
      "_________________________________________________________________\n"
     ]
    }
   ],
   "source": [
    "model = first_model(training_data_params['dim'][0], training_data_params['dim'][1], \\\n",
    "                    training_data_params['n_in_channels'])"
   ]
  },
  {
   "cell_type": "code",
   "execution_count": 14,
   "metadata": {},
   "outputs": [
    {
     "name": "stdout",
     "output_type": "stream",
     "text": [
      "Epoch 1/3\n",
      " 26/802 [..............................] - ETA: 32:33 - loss: 12.9651 - mean_squared_error: 12.9651"
     ]
    },
    {
     "ename": "KeyboardInterrupt",
     "evalue": "",
     "output_type": "error",
     "traceback": [
      "\u001b[0;31m---------------------------------------------------------------------------\u001b[0m",
      "\u001b[0;31mKeyboardInterrupt\u001b[0m                         Traceback (most recent call last)",
      "\u001b[0;32m<ipython-input-14-7150c87c4cc8>\u001b[0m in \u001b[0;36m<module>\u001b[0;34m()\u001b[0m\n\u001b[1;32m      1\u001b[0m \u001b[0mtensorboard\u001b[0m \u001b[0;34m=\u001b[0m \u001b[0mTensorBoard\u001b[0m\u001b[0;34m(\u001b[0m\u001b[0mlog_dir\u001b[0m\u001b[0;34m=\u001b[0m\u001b[0;34m\"logs/singlebox\"\u001b[0m\u001b[0;34m,\u001b[0m \u001b[0mupdate_freq\u001b[0m\u001b[0;34m=\u001b[0m\u001b[0;34m'batch'\u001b[0m\u001b[0;34m)\u001b[0m\u001b[0;34m\u001b[0m\u001b[0m\n\u001b[1;32m      2\u001b[0m \u001b[0;34m\u001b[0m\u001b[0m\n\u001b[0;32m----> 3\u001b[0;31m \u001b[0mmodel\u001b[0m\u001b[0;34m.\u001b[0m\u001b[0mfit_generator\u001b[0m\u001b[0;34m(\u001b[0m\u001b[0mtraining_generator\u001b[0m\u001b[0;34m,\u001b[0m \u001b[0mepochs\u001b[0m\u001b[0;34m=\u001b[0m\u001b[0;36m3\u001b[0m\u001b[0;34m,\u001b[0m \u001b[0mverbose\u001b[0m\u001b[0;34m=\u001b[0m\u001b[0;36m1\u001b[0m\u001b[0;34m,\u001b[0m \u001b[0mcallbacks\u001b[0m\u001b[0;34m=\u001b[0m\u001b[0;34m[\u001b[0m\u001b[0mtensorboard\u001b[0m\u001b[0;34m]\u001b[0m\u001b[0;34m)\u001b[0m\u001b[0;34m\u001b[0m\u001b[0m\n\u001b[0m",
      "\u001b[0;32m~/anaconda2/envs/deeplearning/lib/python3.6/site-packages/keras/legacy/interfaces.py\u001b[0m in \u001b[0;36mwrapper\u001b[0;34m(*args, **kwargs)\u001b[0m\n\u001b[1;32m     89\u001b[0m                 warnings.warn('Update your `' + object_name + '` call to the ' +\n\u001b[1;32m     90\u001b[0m                               'Keras 2 API: ' + signature, stacklevel=2)\n\u001b[0;32m---> 91\u001b[0;31m             \u001b[0;32mreturn\u001b[0m \u001b[0mfunc\u001b[0m\u001b[0;34m(\u001b[0m\u001b[0;34m*\u001b[0m\u001b[0margs\u001b[0m\u001b[0;34m,\u001b[0m \u001b[0;34m**\u001b[0m\u001b[0mkwargs\u001b[0m\u001b[0;34m)\u001b[0m\u001b[0;34m\u001b[0m\u001b[0m\n\u001b[0m\u001b[1;32m     92\u001b[0m         \u001b[0mwrapper\u001b[0m\u001b[0;34m.\u001b[0m\u001b[0m_original_function\u001b[0m \u001b[0;34m=\u001b[0m \u001b[0mfunc\u001b[0m\u001b[0;34m\u001b[0m\u001b[0m\n\u001b[1;32m     93\u001b[0m         \u001b[0;32mreturn\u001b[0m \u001b[0mwrapper\u001b[0m\u001b[0;34m\u001b[0m\u001b[0m\n",
      "\u001b[0;32m~/anaconda2/envs/deeplearning/lib/python3.6/site-packages/keras/engine/training.py\u001b[0m in \u001b[0;36mfit_generator\u001b[0;34m(self, generator, steps_per_epoch, epochs, verbose, callbacks, validation_data, validation_steps, class_weight, max_queue_size, workers, use_multiprocessing, shuffle, initial_epoch)\u001b[0m\n\u001b[1;32m   1416\u001b[0m             \u001b[0muse_multiprocessing\u001b[0m\u001b[0;34m=\u001b[0m\u001b[0muse_multiprocessing\u001b[0m\u001b[0;34m,\u001b[0m\u001b[0;34m\u001b[0m\u001b[0m\n\u001b[1;32m   1417\u001b[0m             \u001b[0mshuffle\u001b[0m\u001b[0;34m=\u001b[0m\u001b[0mshuffle\u001b[0m\u001b[0;34m,\u001b[0m\u001b[0;34m\u001b[0m\u001b[0m\n\u001b[0;32m-> 1418\u001b[0;31m             initial_epoch=initial_epoch)\n\u001b[0m\u001b[1;32m   1419\u001b[0m \u001b[0;34m\u001b[0m\u001b[0m\n\u001b[1;32m   1420\u001b[0m     \u001b[0;34m@\u001b[0m\u001b[0minterfaces\u001b[0m\u001b[0;34m.\u001b[0m\u001b[0mlegacy_generator_methods_support\u001b[0m\u001b[0;34m\u001b[0m\u001b[0m\n",
      "\u001b[0;32m~/anaconda2/envs/deeplearning/lib/python3.6/site-packages/keras/engine/training_generator.py\u001b[0m in \u001b[0;36mfit_generator\u001b[0;34m(model, generator, steps_per_epoch, epochs, verbose, callbacks, validation_data, validation_steps, class_weight, max_queue_size, workers, use_multiprocessing, shuffle, initial_epoch)\u001b[0m\n\u001b[1;32m    215\u001b[0m                 outs = model.train_on_batch(x, y,\n\u001b[1;32m    216\u001b[0m                                             \u001b[0msample_weight\u001b[0m\u001b[0;34m=\u001b[0m\u001b[0msample_weight\u001b[0m\u001b[0;34m,\u001b[0m\u001b[0;34m\u001b[0m\u001b[0m\n\u001b[0;32m--> 217\u001b[0;31m                                             class_weight=class_weight)\n\u001b[0m\u001b[1;32m    218\u001b[0m \u001b[0;34m\u001b[0m\u001b[0m\n\u001b[1;32m    219\u001b[0m                 \u001b[0mouts\u001b[0m \u001b[0;34m=\u001b[0m \u001b[0mto_list\u001b[0m\u001b[0;34m(\u001b[0m\u001b[0mouts\u001b[0m\u001b[0;34m)\u001b[0m\u001b[0;34m\u001b[0m\u001b[0m\n",
      "\u001b[0;32m~/anaconda2/envs/deeplearning/lib/python3.6/site-packages/keras/engine/training.py\u001b[0m in \u001b[0;36mtrain_on_batch\u001b[0;34m(self, x, y, sample_weight, class_weight)\u001b[0m\n\u001b[1;32m   1215\u001b[0m             \u001b[0mins\u001b[0m \u001b[0;34m=\u001b[0m \u001b[0mx\u001b[0m \u001b[0;34m+\u001b[0m \u001b[0my\u001b[0m \u001b[0;34m+\u001b[0m \u001b[0msample_weights\u001b[0m\u001b[0;34m\u001b[0m\u001b[0m\n\u001b[1;32m   1216\u001b[0m         \u001b[0mself\u001b[0m\u001b[0;34m.\u001b[0m\u001b[0m_make_train_function\u001b[0m\u001b[0;34m(\u001b[0m\u001b[0;34m)\u001b[0m\u001b[0;34m\u001b[0m\u001b[0m\n\u001b[0;32m-> 1217\u001b[0;31m         \u001b[0moutputs\u001b[0m \u001b[0;34m=\u001b[0m \u001b[0mself\u001b[0m\u001b[0;34m.\u001b[0m\u001b[0mtrain_function\u001b[0m\u001b[0;34m(\u001b[0m\u001b[0mins\u001b[0m\u001b[0;34m)\u001b[0m\u001b[0;34m\u001b[0m\u001b[0m\n\u001b[0m\u001b[1;32m   1218\u001b[0m         \u001b[0;32mreturn\u001b[0m \u001b[0munpack_singleton\u001b[0m\u001b[0;34m(\u001b[0m\u001b[0moutputs\u001b[0m\u001b[0;34m)\u001b[0m\u001b[0;34m\u001b[0m\u001b[0m\n\u001b[1;32m   1219\u001b[0m \u001b[0;34m\u001b[0m\u001b[0m\n",
      "\u001b[0;32m~/anaconda2/envs/deeplearning/lib/python3.6/site-packages/keras/backend/tensorflow_backend.py\u001b[0m in \u001b[0;36m__call__\u001b[0;34m(self, inputs)\u001b[0m\n\u001b[1;32m   2713\u001b[0m                 \u001b[0;32mreturn\u001b[0m \u001b[0mself\u001b[0m\u001b[0;34m.\u001b[0m\u001b[0m_legacy_call\u001b[0m\u001b[0;34m(\u001b[0m\u001b[0minputs\u001b[0m\u001b[0;34m)\u001b[0m\u001b[0;34m\u001b[0m\u001b[0m\n\u001b[1;32m   2714\u001b[0m \u001b[0;34m\u001b[0m\u001b[0m\n\u001b[0;32m-> 2715\u001b[0;31m             \u001b[0;32mreturn\u001b[0m \u001b[0mself\u001b[0m\u001b[0;34m.\u001b[0m\u001b[0m_call\u001b[0m\u001b[0;34m(\u001b[0m\u001b[0minputs\u001b[0m\u001b[0;34m)\u001b[0m\u001b[0;34m\u001b[0m\u001b[0m\n\u001b[0m\u001b[1;32m   2716\u001b[0m         \u001b[0;32melse\u001b[0m\u001b[0;34m:\u001b[0m\u001b[0;34m\u001b[0m\u001b[0m\n\u001b[1;32m   2717\u001b[0m             \u001b[0;32mif\u001b[0m \u001b[0mpy_any\u001b[0m\u001b[0;34m(\u001b[0m\u001b[0mis_tensor\u001b[0m\u001b[0;34m(\u001b[0m\u001b[0mx\u001b[0m\u001b[0;34m)\u001b[0m \u001b[0;32mfor\u001b[0m \u001b[0mx\u001b[0m \u001b[0;32min\u001b[0m \u001b[0minputs\u001b[0m\u001b[0;34m)\u001b[0m\u001b[0;34m:\u001b[0m\u001b[0;34m\u001b[0m\u001b[0m\n",
      "\u001b[0;32m~/anaconda2/envs/deeplearning/lib/python3.6/site-packages/keras/backend/tensorflow_backend.py\u001b[0m in \u001b[0;36m_call\u001b[0;34m(self, inputs)\u001b[0m\n\u001b[1;32m   2673\u001b[0m             \u001b[0mfetched\u001b[0m \u001b[0;34m=\u001b[0m \u001b[0mself\u001b[0m\u001b[0;34m.\u001b[0m\u001b[0m_callable_fn\u001b[0m\u001b[0;34m(\u001b[0m\u001b[0;34m*\u001b[0m\u001b[0marray_vals\u001b[0m\u001b[0;34m,\u001b[0m \u001b[0mrun_metadata\u001b[0m\u001b[0;34m=\u001b[0m\u001b[0mself\u001b[0m\u001b[0;34m.\u001b[0m\u001b[0mrun_metadata\u001b[0m\u001b[0;34m)\u001b[0m\u001b[0;34m\u001b[0m\u001b[0m\n\u001b[1;32m   2674\u001b[0m         \u001b[0;32melse\u001b[0m\u001b[0;34m:\u001b[0m\u001b[0;34m\u001b[0m\u001b[0m\n\u001b[0;32m-> 2675\u001b[0;31m             \u001b[0mfetched\u001b[0m \u001b[0;34m=\u001b[0m \u001b[0mself\u001b[0m\u001b[0;34m.\u001b[0m\u001b[0m_callable_fn\u001b[0m\u001b[0;34m(\u001b[0m\u001b[0;34m*\u001b[0m\u001b[0marray_vals\u001b[0m\u001b[0;34m)\u001b[0m\u001b[0;34m\u001b[0m\u001b[0m\n\u001b[0m\u001b[1;32m   2676\u001b[0m         \u001b[0;32mreturn\u001b[0m \u001b[0mfetched\u001b[0m\u001b[0;34m[\u001b[0m\u001b[0;34m:\u001b[0m\u001b[0mlen\u001b[0m\u001b[0;34m(\u001b[0m\u001b[0mself\u001b[0m\u001b[0;34m.\u001b[0m\u001b[0moutputs\u001b[0m\u001b[0;34m)\u001b[0m\u001b[0;34m]\u001b[0m\u001b[0;34m\u001b[0m\u001b[0m\n\u001b[1;32m   2677\u001b[0m \u001b[0;34m\u001b[0m\u001b[0m\n",
      "\u001b[0;32m~/anaconda2/envs/deeplearning/lib/python3.6/site-packages/tensorflow/python/client/session.py\u001b[0m in \u001b[0;36m__call__\u001b[0;34m(self, *args, **kwargs)\u001b[0m\n\u001b[1;32m   1380\u001b[0m           ret = tf_session.TF_SessionRunCallable(\n\u001b[1;32m   1381\u001b[0m               \u001b[0mself\u001b[0m\u001b[0;34m.\u001b[0m\u001b[0m_session\u001b[0m\u001b[0;34m.\u001b[0m\u001b[0m_session\u001b[0m\u001b[0;34m,\u001b[0m \u001b[0mself\u001b[0m\u001b[0;34m.\u001b[0m\u001b[0m_handle\u001b[0m\u001b[0;34m,\u001b[0m \u001b[0margs\u001b[0m\u001b[0;34m,\u001b[0m \u001b[0mstatus\u001b[0m\u001b[0;34m,\u001b[0m\u001b[0;34m\u001b[0m\u001b[0m\n\u001b[0;32m-> 1382\u001b[0;31m               run_metadata_ptr)\n\u001b[0m\u001b[1;32m   1383\u001b[0m         \u001b[0;32mif\u001b[0m \u001b[0mrun_metadata\u001b[0m\u001b[0;34m:\u001b[0m\u001b[0;34m\u001b[0m\u001b[0m\n\u001b[1;32m   1384\u001b[0m           \u001b[0mproto_data\u001b[0m \u001b[0;34m=\u001b[0m \u001b[0mtf_session\u001b[0m\u001b[0;34m.\u001b[0m\u001b[0mTF_GetBuffer\u001b[0m\u001b[0;34m(\u001b[0m\u001b[0mrun_metadata_ptr\u001b[0m\u001b[0;34m)\u001b[0m\u001b[0;34m\u001b[0m\u001b[0m\n",
      "\u001b[0;31mKeyboardInterrupt\u001b[0m: "
     ]
    }
   ],
   "source": [
    "tensorboard = TensorBoard(log_dir=\"logs/singlebox\", update_freq='batch')\n",
    "\n",
    "model.fit_generator(training_generator, epochs=3, verbose=1, callbacks=[tensorboard])"
   ]
  },
  {
   "cell_type": "code",
   "execution_count": 24,
   "metadata": {},
   "outputs": [
    {
     "name": "stdout",
     "output_type": "stream",
     "text": [
      "(1, 128, 128, 1)\n",
      "[0. 0. 0. 0. 0.]\n",
      "[[-0.00713556  0.0049207   0.00023772  0.00264159 -0.00047815]]\n"
     ]
    }
   ],
   "source": [
    "first_image = a[0][[0]]\n",
    "print(first_image.shape)\n",
    "print(a[1][0])\n",
    "prediction = model.predict(first_image)\n",
    "print(prediction)"
   ]
  },
  {
   "cell_type": "code",
   "execution_count": 54,
   "metadata": {},
   "outputs": [
    {
     "data": {
      "text/plain": [
       "<SimpleITK.SimpleITK.Image; proxy of <Swig Object of type 'std::vector< itk::simple::Image >::value_type *' at 0x158a7e4b0> >"
      ]
     },
     "execution_count": 54,
     "metadata": {},
     "output_type": "execute_result"
    }
   ],
   "source": [
    "#def get_validation(df, ):\n",
    "patient_image = df[df[\"confidence1\"]==1].sample(1)\n",
    "img = sitk.ReadImage(os.path.join(train_dir, patient_image['patientId'].values[0] + \".dcm\"))\n",
    "img \n",
    "    "
   ]
  },
  {
   "cell_type": "code",
   "execution_count": 32,
   "metadata": {},
   "outputs": [
    {
     "data": {
      "text/html": [
       "<div>\n",
       "<style scoped>\n",
       "    .dataframe tbody tr th:only-of-type {\n",
       "        vertical-align: middle;\n",
       "    }\n",
       "\n",
       "    .dataframe tbody tr th {\n",
       "        vertical-align: top;\n",
       "    }\n",
       "\n",
       "    .dataframe thead th {\n",
       "        text-align: right;\n",
       "    }\n",
       "</style>\n",
       "<table border=\"1\" class=\"dataframe\">\n",
       "  <thead>\n",
       "    <tr style=\"text-align: right;\">\n",
       "      <th></th>\n",
       "      <th>patientId</th>\n",
       "      <th>x1</th>\n",
       "      <th>y1</th>\n",
       "      <th>width1</th>\n",
       "      <th>height1</th>\n",
       "      <th>confidence1</th>\n",
       "      <th>x2</th>\n",
       "      <th>y2</th>\n",
       "      <th>width2</th>\n",
       "      <th>height2</th>\n",
       "      <th>...</th>\n",
       "      <th>x3</th>\n",
       "      <th>y3</th>\n",
       "      <th>width3</th>\n",
       "      <th>height3</th>\n",
       "      <th>confidence3</th>\n",
       "      <th>x4</th>\n",
       "      <th>y4</th>\n",
       "      <th>width4</th>\n",
       "      <th>height4</th>\n",
       "      <th>confidence4</th>\n",
       "    </tr>\n",
       "  </thead>\n",
       "  <tbody>\n",
       "    <tr>\n",
       "      <th>0</th>\n",
       "      <td>0004cfab-14fd-4e49-80ba-63a80b6bddd6</td>\n",
       "      <td>0.0</td>\n",
       "      <td>0.0</td>\n",
       "      <td>0.0</td>\n",
       "      <td>0.0</td>\n",
       "      <td>0</td>\n",
       "      <td>0.0</td>\n",
       "      <td>0.0</td>\n",
       "      <td>0.0</td>\n",
       "      <td>0.0</td>\n",
       "      <td>...</td>\n",
       "      <td>0.0</td>\n",
       "      <td>0.0</td>\n",
       "      <td>0.0</td>\n",
       "      <td>0.0</td>\n",
       "      <td>0</td>\n",
       "      <td>0.0</td>\n",
       "      <td>0.0</td>\n",
       "      <td>0.0</td>\n",
       "      <td>0.0</td>\n",
       "      <td>0</td>\n",
       "    </tr>\n",
       "    <tr>\n",
       "      <th>1</th>\n",
       "      <td>00313ee0-9eaa-42f4-b0ab-c148ed3241cd</td>\n",
       "      <td>0.0</td>\n",
       "      <td>0.0</td>\n",
       "      <td>0.0</td>\n",
       "      <td>0.0</td>\n",
       "      <td>0</td>\n",
       "      <td>0.0</td>\n",
       "      <td>0.0</td>\n",
       "      <td>0.0</td>\n",
       "      <td>0.0</td>\n",
       "      <td>...</td>\n",
       "      <td>0.0</td>\n",
       "      <td>0.0</td>\n",
       "      <td>0.0</td>\n",
       "      <td>0.0</td>\n",
       "      <td>0</td>\n",
       "      <td>0.0</td>\n",
       "      <td>0.0</td>\n",
       "      <td>0.0</td>\n",
       "      <td>0.0</td>\n",
       "      <td>0</td>\n",
       "    </tr>\n",
       "    <tr>\n",
       "      <th>2</th>\n",
       "      <td>00322d4d-1c29-4943-afc9-b6754be640eb</td>\n",
       "      <td>0.0</td>\n",
       "      <td>0.0</td>\n",
       "      <td>0.0</td>\n",
       "      <td>0.0</td>\n",
       "      <td>0</td>\n",
       "      <td>0.0</td>\n",
       "      <td>0.0</td>\n",
       "      <td>0.0</td>\n",
       "      <td>0.0</td>\n",
       "      <td>...</td>\n",
       "      <td>0.0</td>\n",
       "      <td>0.0</td>\n",
       "      <td>0.0</td>\n",
       "      <td>0.0</td>\n",
       "      <td>0</td>\n",
       "      <td>0.0</td>\n",
       "      <td>0.0</td>\n",
       "      <td>0.0</td>\n",
       "      <td>0.0</td>\n",
       "      <td>0</td>\n",
       "    </tr>\n",
       "    <tr>\n",
       "      <th>3</th>\n",
       "      <td>003d8fa0-6bf1-40ed-b54c-ac657f8495c5</td>\n",
       "      <td>0.0</td>\n",
       "      <td>0.0</td>\n",
       "      <td>0.0</td>\n",
       "      <td>0.0</td>\n",
       "      <td>0</td>\n",
       "      <td>0.0</td>\n",
       "      <td>0.0</td>\n",
       "      <td>0.0</td>\n",
       "      <td>0.0</td>\n",
       "      <td>...</td>\n",
       "      <td>0.0</td>\n",
       "      <td>0.0</td>\n",
       "      <td>0.0</td>\n",
       "      <td>0.0</td>\n",
       "      <td>0</td>\n",
       "      <td>0.0</td>\n",
       "      <td>0.0</td>\n",
       "      <td>0.0</td>\n",
       "      <td>0.0</td>\n",
       "      <td>0</td>\n",
       "    </tr>\n",
       "    <tr>\n",
       "      <th>4</th>\n",
       "      <td>00436515-870c-4b36-a041-de91049b9ab4</td>\n",
       "      <td>264.0</td>\n",
       "      <td>152.0</td>\n",
       "      <td>213.0</td>\n",
       "      <td>379.0</td>\n",
       "      <td>1</td>\n",
       "      <td>562.0</td>\n",
       "      <td>152.0</td>\n",
       "      <td>256.0</td>\n",
       "      <td>453.0</td>\n",
       "      <td>...</td>\n",
       "      <td>0.0</td>\n",
       "      <td>0.0</td>\n",
       "      <td>0.0</td>\n",
       "      <td>0.0</td>\n",
       "      <td>0</td>\n",
       "      <td>0.0</td>\n",
       "      <td>0.0</td>\n",
       "      <td>0.0</td>\n",
       "      <td>0.0</td>\n",
       "      <td>0</td>\n",
       "    </tr>\n",
       "  </tbody>\n",
       "</table>\n",
       "<p>5 rows × 21 columns</p>\n",
       "</div>"
      ],
      "text/plain": [
       "                              patientId     x1     y1  width1  height1  \\\n",
       "0  0004cfab-14fd-4e49-80ba-63a80b6bddd6    0.0    0.0     0.0      0.0   \n",
       "1  00313ee0-9eaa-42f4-b0ab-c148ed3241cd    0.0    0.0     0.0      0.0   \n",
       "2  00322d4d-1c29-4943-afc9-b6754be640eb    0.0    0.0     0.0      0.0   \n",
       "3  003d8fa0-6bf1-40ed-b54c-ac657f8495c5    0.0    0.0     0.0      0.0   \n",
       "4  00436515-870c-4b36-a041-de91049b9ab4  264.0  152.0   213.0    379.0   \n",
       "\n",
       "   confidence1     x2     y2  width2  height2     ...        x3   y3  width3  \\\n",
       "0            0    0.0    0.0     0.0      0.0     ...       0.0  0.0     0.0   \n",
       "1            0    0.0    0.0     0.0      0.0     ...       0.0  0.0     0.0   \n",
       "2            0    0.0    0.0     0.0      0.0     ...       0.0  0.0     0.0   \n",
       "3            0    0.0    0.0     0.0      0.0     ...       0.0  0.0     0.0   \n",
       "4            1  562.0  152.0   256.0    453.0     ...       0.0  0.0     0.0   \n",
       "\n",
       "   height3  confidence3   x4   y4  width4  height4  confidence4  \n",
       "0      0.0            0  0.0  0.0     0.0      0.0            0  \n",
       "1      0.0            0  0.0  0.0     0.0      0.0            0  \n",
       "2      0.0            0  0.0  0.0     0.0      0.0            0  \n",
       "3      0.0            0  0.0  0.0     0.0      0.0            0  \n",
       "4      0.0            0  0.0  0.0     0.0      0.0            0  \n",
       "\n",
       "[5 rows x 21 columns]"
      ]
     },
     "execution_count": 32,
     "metadata": {},
     "output_type": "execute_result"
    }
   ],
   "source": [
    "itkimage = sitk.ReadImage(os.path.join(self.path, info[\"patientId\"] + \".dcm\"))\n",
    "            \n",
    "            img = np.moveaxis(sitk.GetArrayFromImage(itkimage), 0, -1)\n",
    "            img = self.normalize(self.resize_image(img))\n",
    "            imgs[idx,] = img"
   ]
  },
  {
   "cell_type": "code",
   "execution_count": 94,
   "metadata": {},
   "outputs": [
    {
     "data": {
      "text/plain": [
       "[639.0, 432.0, 183.0, 257.0]"
      ]
     },
     "execution_count": 94,
     "metadata": {},
     "output_type": "execute_result"
    }
   ],
   "source": [
    "patient_image.iloc[:, 1:5].values.tolist()[0]"
   ]
  },
  {
   "cell_type": "code",
   "execution_count": null,
   "metadata": {},
   "outputs": [],
   "source": []
  }
 ],
 "metadata": {
  "kernelspec": {
   "display_name": "Python 3",
   "language": "python",
   "name": "python3"
  },
  "language_info": {
   "codemirror_mode": {
    "name": "ipython",
    "version": 3
   },
   "file_extension": ".py",
   "mimetype": "text/x-python",
   "name": "python",
   "nbconvert_exporter": "python",
   "pygments_lexer": "ipython3",
   "version": "3.6.2"
  }
 },
 "nbformat": 4,
 "nbformat_minor": 2
}
