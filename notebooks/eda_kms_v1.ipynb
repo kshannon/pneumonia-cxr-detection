{
 "cells": [
  {
   "cell_type": "markdown",
   "metadata": {},
   "source": [
    "## Basic EDA notebook "
   ]
  },
  {
   "cell_type": "code",
   "execution_count": 1,
   "metadata": {},
   "outputs": [],
   "source": [
    "import glob\n",
    "import pylab\n",
    "import random\n",
    "import numpy as np\n",
    "import pandas as pd\n",
    "import pydicom"
   ]
  },
  {
   "cell_type": "code",
   "execution_count": 6,
   "metadata": {},
   "outputs": [],
   "source": [
    "# data_path = '/home/keil/data/RSNA-pneumonia/stage_1/' #Linux Box\n",
    "data_path = '/Users/keil/datasets/RSNA-pneumonia/stage_1/' #macOSX\n",
    "train_img = 'stage_1_train_images/'\n",
    "train_csv = 'stage_1_train_labels.csv'"
   ]
  },
  {
   "cell_type": "code",
   "execution_count": 7,
   "metadata": {},
   "outputs": [
    {
     "name": "stdout",
     "output_type": "stream",
     "text": [
      "                              patientId      x      y  width  height  Target\n",
      "0  0004cfab-14fd-4e49-80ba-63a80b6bddd6    NaN    NaN    NaN     NaN       0\n",
      "1  00313ee0-9eaa-42f4-b0ab-c148ed3241cd    NaN    NaN    NaN     NaN       0\n",
      "2  00322d4d-1c29-4943-afc9-b6754be640eb    NaN    NaN    NaN     NaN       0\n",
      "3  003d8fa0-6bf1-40ed-b54c-ac657f8495c5    NaN    NaN    NaN     NaN       0\n",
      "4  00436515-870c-4b36-a041-de91049b9ab4  264.0  152.0  213.0   379.0       1\n"
     ]
    }
   ],
   "source": [
    "df = pd.read_csv(data_path + train_csv)  #df.shape = (28989, 6)\n",
    "print(df.head())"
   ]
  },
  {
   "cell_type": "code",
   "execution_count": 35,
   "metadata": {
    "scrolled": true
   },
   "outputs": [
    {
     "name": "stdout",
     "output_type": "stream",
     "text": [
      "(0008, 0005) Specific Character Set              CS: 'ISO_IR 100'\n",
      "(0008, 0016) SOP Class UID                       UI: Secondary Capture Image Storage\n",
      "(0008, 0018) SOP Instance UID                    UI: 1.2.276.0.7230010.3.1.4.8323329.16741.1517874399.268769\n",
      "(0008, 0020) Study Date                          DA: '19010101'\n",
      "(0008, 0030) Study Time                          TM: '000000.00'\n",
      "(0008, 0050) Accession Number                    SH: ''\n",
      "(0008, 0060) Modality                            CS: 'CR'\n",
      "(0008, 0064) Conversion Type                     CS: 'WSD'\n",
      "(0008, 0090) Referring Physician's Name          PN: ''\n",
      "(0008, 103e) Series Description                  LO: 'view: PA'\n",
      "(0010, 0010) Patient's Name                      PN: 'e79dfd08-2bec-4c51-923b-36e874aa1d66'\n",
      "(0010, 0020) Patient ID                          LO: 'e79dfd08-2bec-4c51-923b-36e874aa1d66'\n",
      "(0010, 0030) Patient's Birth Date                DA: ''\n",
      "(0010, 0040) Patient's Sex                       CS: 'M'\n",
      "(0010, 1010) Patient's Age                       AS: '40'\n",
      "(0018, 0015) Body Part Examined                  CS: 'CHEST'\n",
      "(0018, 5101) View Position                       CS: 'PA'\n",
      "(0020, 000d) Study Instance UID                  UI: 1.2.276.0.7230010.3.1.2.8323329.16741.1517874399.268768\n",
      "(0020, 000e) Series Instance UID                 UI: 1.2.276.0.7230010.3.1.3.8323329.16741.1517874399.268767\n",
      "(0020, 0010) Study ID                            SH: ''\n",
      "(0020, 0011) Series Number                       IS: '1'\n",
      "(0020, 0013) Instance Number                     IS: '1'\n",
      "(0020, 0020) Patient Orientation                 CS: ''\n",
      "(0028, 0002) Samples per Pixel                   US: 1\n",
      "(0028, 0004) Photometric Interpretation          CS: 'MONOCHROME2'\n",
      "(0028, 0010) Rows                                US: 1024\n",
      "(0028, 0011) Columns                             US: 1024\n",
      "(0028, 0030) Pixel Spacing                       DS: ['0.14300000000000002', '0.14300000000000002']\n",
      "(0028, 0100) Bits Allocated                      US: 8\n",
      "(0028, 0101) Bits Stored                         US: 8\n",
      "(0028, 0102) High Bit                            US: 7\n",
      "(0028, 0103) Pixel Representation                US: 0\n",
      "(0028, 2110) Lossy Image Compression             CS: '01'\n",
      "(0028, 2114) Lossy Image Compression Method      CS: 'ISO_10918_1'\n",
      "(7fe0, 0010) Pixel Data                          OB: Array of 150730 bytes\n"
     ]
    }
   ],
   "source": [
    "#selecting a random patientID from training data and peeking at the DICOM's meta-data\n",
    "\n",
    "rand_patientId = df['patientId'][random.randint(0,28989)] \n",
    "rand_dcm_file = data_path + train_img + rand_patientId + '.dcm'\n",
    "dcm_data = pydicom.read_file(rand_dcm_file) #ingest a random .dcm file\n",
    "\n",
    "print(dcm_data)"
   ]
  },
  {
   "cell_type": "code",
   "execution_count": 37,
   "metadata": {},
   "outputs": [
    {
     "name": "stdout",
     "output_type": "stream",
     "text": [
      "<class 'numpy.ndarray'>\n",
      "uint8\n",
      "(1024, 1024)\n"
     ]
    }
   ],
   "source": [
    "# taking a look at the DICOM img information\n",
    "\n",
    "dicom_img_info = dcm_data.pixel_array\n",
    "print(type(dicom_img_info))\n",
    "print(dicom_img_info.dtype)\n",
    "print(dicom_img_info.shape)"
   ]
  },
  {
   "cell_type": "code",
   "execution_count": null,
   "metadata": {
    "scrolled": true
   },
   "outputs": [],
   "source": [
    "# Ensure all imaes in train are of the same type and size\n",
    "# NOTE ---------- DO NOT RUN (see results below in comments. Took ~5 min to run.)\n",
    "\n",
    "img_sizes = []\n",
    "img_dtypes = []\n",
    "img_class = []\n",
    "for pID in df['patientId'].tolist():\n",
    "    dcm_file = data_path + train_img + pID + '.dcm'\n",
    "    dcm_data = pydicom.read_file(dcm_file)\n",
    "    dicom_img_info = dcm_data.pixel_array\n",
    "    img_sizes.append(dicom_img_info.shape)\n",
    "    img_dtypes.append(dicom_img_info.dtype)\n",
    "    img_class.append(type(dicom_img_info))\n",
    "\n",
    "assert len(img_sizes) == 28989\n",
    "assert len(img_dtypes) == 28989\n",
    "assert len(img_class) == 28989\n",
    "\n",
    "print(set(img_sizes))\n",
    "print(set(img_dtypes))\n",
    "print(set(img_class))\n",
    "\n",
    "# output:\n",
    "\n",
    "# {(1024, 1024)}\n",
    "# {dtype('uint8')}\n",
    "# {<class 'numpy.ndarray'>}"
   ]
  },
  {
   "cell_type": "markdown",
   "metadata": {},
   "source": [
    "All images are sccaled to 1024x1024 and have been cast to numoy array 8bit encoding greyscales. "
   ]
  },
  {
   "cell_type": "code",
   "execution_count": 39,
   "metadata": {},
   "outputs": [
    {
     "data": {
      "text/plain": [
       "<matplotlib.image.AxesImage at 0x7f6a39d3cb00>"
      ]
     },
     "execution_count": 39,
     "metadata": {},
     "output_type": "execute_result"
    },
    {
     "data": {
      "image/png": "[encoded data removed]",
      "text/plain": [
       "<Figure size 432x288 with 1 Axes>"
      ]
     },
     "metadata": {},
     "output_type": "display_data"
    }
   ],
   "source": [
    "#visualize an image from the above random patient:\n",
    "pylab.imshow(dicom_img_info, cmap=pylab.cm.gist_gray)\n",
    "# pylab.axis('off')"
   ]
  },
  {
   "cell_type": "code",
   "execution_count": 49,
   "metadata": {},
   "outputs": [
    {
     "name": "stdout",
     "output_type": "stream",
     "text": [
      "Positive: 8964\n",
      "Negative: 20025\n",
      "Ratio of 1.0 to 3.2 pos to neg\n"
     ]
    }
   ],
   "source": [
    "# Let's get the ratio of positive to negative pneumonia in the training dataset\n",
    "label_bool = df['Target'].tolist()\n",
    "data_count = len(label_bool)\n",
    "positives = np.sum(label_bool)\n",
    "print('Positive: {}\\nNegative: {}'.format(positives,(data_count-positives)))\n",
    "print('Ratio of {} to {} pos to neg'.format(positives/positives,np.round(data_count/positives,1)))"
   ]
  },
  {
   "cell_type": "code",
   "execution_count": null,
   "metadata": {},
   "outputs": [],
   "source": []
  },
  {
   "cell_type": "code",
   "execution_count": 57,
   "metadata": {},
   "outputs": [
    {
     "data": {
      "text/html": [
       "<div>\n",
       "<style scoped>\n",
       "    .dataframe tbody tr th:only-of-type {\n",
       "        vertical-align: middle;\n",
       "    }\n",
       "\n",
       "    .dataframe tbody tr th {\n",
       "        vertical-align: top;\n",
       "    }\n",
       "\n",
       "    .dataframe thead th {\n",
       "        text-align: right;\n",
       "    }\n",
       "</style>\n",
       "<table border=\"1\" class=\"dataframe\">\n",
       "  <thead>\n",
       "    <tr style=\"text-align: right;\">\n",
       "      <th></th>\n",
       "      <th>patientId</th>\n",
       "      <th>x</th>\n",
       "      <th>y</th>\n",
       "      <th>width</th>\n",
       "      <th>height</th>\n",
       "      <th>Target</th>\n",
       "    </tr>\n",
       "  </thead>\n",
       "  <tbody>\n",
       "    <tr>\n",
       "      <th>25913</th>\n",
       "      <td>e79dfd08-2bec-4c51-923b-36e874aa1d66</td>\n",
       "      <td>NaN</td>\n",
       "      <td>NaN</td>\n",
       "      <td>NaN</td>\n",
       "      <td>NaN</td>\n",
       "      <td>0</td>\n",
       "    </tr>\n",
       "  </tbody>\n",
       "</table>\n",
       "</div>"
      ],
      "text/plain": [
       "                                  patientId   x   y  width  height  Target\n",
       "25913  e79dfd08-2bec-4c51-923b-36e874aa1d66 NaN NaN    NaN     NaN       0"
      ]
     },
     "execution_count": 57,
     "metadata": {},
     "output_type": "execute_result"
    }
   ],
   "source": [
    "df[df['patientId'] == 'e79dfd08-2bec-4c51-923b-36e874aa1d66']"
   ]
  },
  {
   "cell_type": "code",
   "execution_count": 22,
   "metadata": {},
   "outputs": [
    {
     "data": {
      "text/plain": [
       "32408669-c137-4e8d-bd62-fe8345b40e73    4\n",
       "349f10b4-dc3e-4f3f-b2e4-a5b81448ce87    4\n",
       "0ab261f9-4eb5-42ab-a9a5-e918904d6356    4\n",
       "7d674c82-5501-4730-92c5-d241fd6911e7    4\n",
       "1bf08f3b-a273-4f51-bafa-b55ada2c23b5    4\n",
       "76f71a93-8105-4c79-a010-0cfa86f0061a    4\n",
       "3239951b-6211-4290-b237-3d9ad17176db    4\n",
       "8dc8e54b-5b05-4dac-80b9-fa48878621e2    4\n",
       "ee820aa5-4804-4984-97b3-f0a71d69702f    4\n",
       "0d5bc737-03de-4bb8-98a1-45b7180c3e0f    4\n",
       "31764d54-ea3b-434f-bae2-8c579ed13799    4\n",
       "b4ea28a7-6386-4660-b499-af4eb17750e1    3\n",
       "d947215e-c4c5-4907-8d47-0735a0ba4fb9    3\n",
       "085a6486-c3b3-4ca2-80f1-be07d23e853b    3\n",
       "17e0f44b-39d6-4e3f-abd0-066fd94ee6de    3\n",
       "7c086e53-4bad-4bc6-9ff6-292614b69e07    3\n",
       "34d36b9f-af87-4891-b001-6dc4f5379cb2    3\n",
       "3218b157-1f46-4da3-863f-9b97ae22308f    3\n",
       "0bf44996-58da-4a12-8be1-da5c9b009975    3\n",
       "6d13500d-05ee-4f4f-bc08-aeda019858fe    3\n",
       "3f167f68-6cde-478d-8e78-9ae22529c22f    3\n",
       "040a0743-f663-4746-8224-f0e3bacc7ba5    3\n",
       "78c9b88e-a134-4470-b161-22e4a698206c    3\n",
       "ec885fc7-04cc-47a5-b971-11ef284c229f    3\n",
       "c252072c-c7c9-40a8-819b-5c7952d10bf2    3\n",
       "261341d3-1df2-4cf4-b9a8-b1e02a124900    3\n",
       "345e6018-89b7-41d0-bd33-2350c1c60311    3\n",
       "f9230537-bb87-4de7-90f1-73bc730d4b3b    3\n",
       "ad8fbdf0-b0df-4e0d-8fae-0ba105c81cc1    3\n",
       "351fe1bb-2966-43a1-9837-fc9664c05266    3\n",
       "                                       ..\n",
       "d8877fc8-bbfe-4883-8eda-de7e0f411779    1\n",
       "4ae71afd-6dd2-436b-a14c-b7484e3afbfe    1\n",
       "e4373be2-37fe-4bd6-ae16-4f036375cf94    1\n",
       "60b61cb8-6ef6-49ac-85e0-d3c58996ab70    1\n",
       "388718ee-17f8-446c-9e25-688100629227    1\n",
       "9576b42f-84a6-41b2-8b0f-75f867fcbc38    1\n",
       "b15bc724-ed99-47a1-b59c-ccd26a41d372    1\n",
       "f8cab9e0-ac0e-4f61-a888-19561e6a73af    1\n",
       "67c15bfe-00c9-4911-bf32-6d99df399dcc    1\n",
       "3902eb7b-6c41-4eed-910f-5eb03f58c50d    1\n",
       "5ed0beb3-655b-4d05-a0b1-671289ca1038    1\n",
       "56ea3620-70fb-403f-8cf6-86ece871c47e    1\n",
       "ed2a0206-3916-48c9-a336-39e8551c0969    1\n",
       "833a38fd-dab6-4dd9-ba53-0f536b86555b    1\n",
       "0a5b4860-e6ab-4737-a389-9d0cf7300770    1\n",
       "de04a499-1e5c-4a5a-becd-4c6069a7e518    1\n",
       "a9a02df7-5c02-458a-a0bd-b4ec1e8bd020    1\n",
       "4057d2b2-eb43-41ce-87d5-dfb76470be61    1\n",
       "8cd4d1a3-e2ac-4475-9a06-33bdaa9876f7    1\n",
       "5d31b348-ba73-46fc-a3fe-d9407fdf158a    1\n",
       "65247f5b-027f-4cff-95aa-f424dfeef259    1\n",
       "64b8ea51-056b-4fa3-a1cd-8913f49424cb    1\n",
       "a4d5f354-2ea3-4a51-a03d-40d2a94f7780    1\n",
       "dde5428f-9703-4dba-aea1-479628ed83a2    1\n",
       "393e9541-7b37-47cb-a706-a3e518f440af    1\n",
       "cd47c6cd-7040-4c0c-b797-3e8b99742a47    1\n",
       "7f20ad0a-2cf6-452b-91ba-628e6391e63c    1\n",
       "e59728f7-a4ac-47d3-9962-429bcdb579ef    1\n",
       "612f076a-270e-4bb2-b761-69d22ff52f43    1\n",
       "4b912423-ef5e-45c9-90a3-b04fc7977653    1\n",
       "Name: patientId, Length: 25684, dtype: int64"
      ]
     },
     "execution_count": 22,
     "metadata": {},
     "output_type": "execute_result"
    }
   ],
   "source": [
    "# lets find out how many boxes per patientID\n",
    "# df.groupby(by=df.patientId).size()\n",
    "df['patientId'].value_counts()\n"
   ]
  },
  {
   "cell_type": "code",
   "execution_count": null,
   "metadata": {},
   "outputs": [],
   "source": []
  },
  {
   "cell_type": "code",
   "execution_count": null,
   "metadata": {},
   "outputs": [],
   "source": []
  },
  {
   "cell_type": "code",
   "execution_count": null,
   "metadata": {},
   "outputs": [],
   "source": []
  },
  {
   "cell_type": "code",
   "execution_count": null,
   "metadata": {},
   "outputs": [],
   "source": []
  },
  {
   "cell_type": "code",
   "execution_count": null,
   "metadata": {},
   "outputs": [],
   "source": []
  },
  {
   "cell_type": "code",
   "execution_count": null,
   "metadata": {},
   "outputs": [],
   "source": []
  },
  {
   "cell_type": "code",
   "execution_count": null,
   "metadata": {},
   "outputs": [],
   "source": []
  },
  {
   "cell_type": "code",
   "execution_count": null,
   "metadata": {},
   "outputs": [],
   "source": []
  },
  {
   "cell_type": "code",
   "execution_count": null,
   "metadata": {},
   "outputs": [],
   "source": []
  }
 ],
 "metadata": {
  "kernelspec": {
   "display_name": "Python 3",
   "language": "python",
   "name": "python3"
  },
  "language_info": {
   "codemirror_mode": {
    "name": "ipython",
    "version": 3
   },
   "file_extension": ".py",
   "mimetype": "text/x-python",
   "name": "python",
   "nbconvert_exporter": "python",
   "pygments_lexer": "ipython3",
   "version": "3.6.3"
  }
 },
 "nbformat": 4,
 "nbformat_minor": 2
}
