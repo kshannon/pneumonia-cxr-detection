{
 "cells": [
  {
   "cell_type": "markdown",
   "metadata": {},
   "source": [
    "## Playing around with data loading approaches"
   ]
  },
  {
   "cell_type": "code",
   "execution_count": 2,
   "metadata": {},
   "outputs": [],
   "source": [
    "import glob\n",
    "import pylab\n",
    "import random\n",
    "import numpy as np\n",
    "import pandas as pd\n",
    "import pydicom\n",
    "import tensorflow as tf"
   ]
  },
  {
   "cell_type": "markdown",
   "metadata": {},
   "source": [
    "### Step 1 is to quickly make a train/validate set from training csv, would like to also keep in mind the ratio of 1:3 class 1 to 0 and maintain that in both train and validation."
   ]
  },
  {
   "cell_type": "code",
   "execution_count": 19,
   "metadata": {},
   "outputs": [],
   "source": [
    "data_path = '/home/keil/data/RSNA-pneumonia/stage_1/'\n",
    "train_img = 'stage_1_train_images/'\n",
    "train_csv = 'stage_1_train_labels.csv'\n",
    "######## TEST DUMMY ########\n",
    "dummy_path = '/home/keil/data/RSNA-pneumonia/stage_dummy/'\n",
    "dummy_csv = 'stage_dummy_train_labels.csv'\n",
    "dummy_train = 'dummy_train.csv'\n",
    "dummy_val = 'dummy_val.csv'"
   ]
  },
  {
   "cell_type": "code",
   "execution_count": 145,
   "metadata": {
    "scrolled": true
   },
   "outputs": [
    {
     "name": "stdout",
     "output_type": "stream",
     "text": [
      "Positive: 6723\n",
      "Negative: 15019\n",
      "Ratio of 1.0 to 3.234 pos to neg\n",
      "\n",
      "Positive: 2241\n",
      "Negative: 5006\n",
      "Ratio of 1.0 to 3.234 pos to neg\n",
      "\n"
     ]
    }
   ],
   "source": [
    "# load data csv file into pandas, split into two dataframes for Target = 0/1\n",
    "# Randomly draw 25% from both DFs into two other DFs\n",
    "# Concat back the old DFs and the two new DFs, calling the first train and new one valid\n",
    "# save to csv, giving us both train and validate csvs with a 75/25 split and even class balance between both.\n",
    "# from the EDA notebook:\n",
    "    # Positive: 8964\n",
    "    # Negative: 20025\n",
    "    # Ratio of 1.0 to 3.2 pos to neg\n",
    "\n",
    "# constants\n",
    "shuffle_seed = 10 #to argparse later for the random shuffle and draw\n",
    "pneumonia = 1\n",
    "valid_percent = 0.25\n",
    "\n",
    "# create DFs\n",
    "df = pd.read_csv(dummy_path + dummy_csv)  #df.shape = (28989, 6)\n",
    "df_1 = df[df['Target'] >= pneumonia].reset_index(drop=True) #shape = (8964, 6)\n",
    "df_0 = df[df['Target'] < pneumonia].reset_index(drop=True) #shape = (20025, 6)\n",
    "\n",
    "# Create subsamples of both class DFs with an amount = valid_percent\n",
    "df_1_valid = df_1.sample(frac=valid_percent,random_state=shuffle_seed).sort_index()\n",
    "df_0_valid = df_0.sample(frac=valid_percent,random_state=shuffle_seed).sort_index()\n",
    "\n",
    "# Using the subdsample lets get the symmetric diference or disjoint from the parent sets\n",
    "class_1_diff = df_1.index.symmetric_difference(df_1_valid.index).tolist()\n",
    "class_0_diff = df_0.index.symmetric_difference(df_0_valid.index).tolist()\n",
    "\n",
    "# Create our training DFs based on that subset from above\n",
    "df_1_train = df_1.iloc[class_1_diff]\n",
    "df_0_train = df_0.iloc[class_0_diff]\n",
    "\n",
    "# Check that our subset DFs for train and valid are equal in size to df_1 and df_0\n",
    "assert df_1_valid.shape[0] + df_1_train.shape[0] == df_1.shape[0]\n",
    "assert df_0_valid.shape[0] + df_0_train.shape[0] == df_0.shape[0]\n",
    "\n",
    "#concat DFs\n",
    "df_train = pd.concat([df_1_train, df_0_train])\n",
    "df_valid = pd.concat([df_1_valid, df_0_valid])\n",
    "\n",
    "#check final shapes\n",
    "assert df_train.shape[0] + df_valid.shape[0] == df.shape[0]\n",
    "\n",
    "#Write out DFs to CSVs\n",
    "df_train.to_csv(dummy_path + 'dummy_train.csv',index=False)\n",
    "df_valid.to_csv(dummy_path + 'dummy_val.csv',index=False)\n",
    "\n",
    "for _ in [df_train,df_valid]:\n",
    "    label_bool = _['Target'].tolist()\n",
    "    data_count = len(label_bool)\n",
    "    positives = np.sum(label_bool)\n",
    "    print('Positive: {}\\nNegative: {}'.format(positives,(data_count-positives)))\n",
    "    print('Ratio of {} to {} pos to neg\\n'.format(positives/positives,np.round(data_count/positives,3)))\n"
   ]
  },
  {
   "cell_type": "code",
   "execution_count": null,
   "metadata": {},
   "outputs": [],
   "source": []
  },
  {
   "cell_type": "code",
   "execution_count": null,
   "metadata": {},
   "outputs": [],
   "source": []
  },
  {
   "cell_type": "code",
   "execution_count": null,
   "metadata": {},
   "outputs": [],
   "source": []
  },
  {
   "cell_type": "code",
   "execution_count": null,
   "metadata": {},
   "outputs": [],
   "source": []
  },
  {
   "cell_type": "code",
   "execution_count": 4,
   "metadata": {},
   "outputs": [],
   "source": [
    "dataset = tf.data.TextLineDataset(data_path+train_csv)"
   ]
  },
  {
   "cell_type": "code",
   "execution_count": 14,
   "metadata": {},
   "outputs": [
    {
     "data": {
      "text/plain": [
       "<ShuffleDataset shapes: (), types: tf.string>"
      ]
     },
     "execution_count": 14,
     "metadata": {},
     "output_type": "execute_result"
    }
   ],
   "source": [
    "dataset.list_files('train')"
   ]
  },
  {
   "cell_type": "code",
   "execution_count": null,
   "metadata": {},
   "outputs": [],
   "source": []
  },
  {
   "cell_type": "code",
   "execution_count": null,
   "metadata": {},
   "outputs": [],
   "source": []
  },
  {
   "cell_type": "code",
   "execution_count": null,
   "metadata": {},
   "outputs": [],
   "source": []
  },
  {
   "cell_type": "code",
   "execution_count": 18,
   "metadata": {},
   "outputs": [
    {
     "name": "stdout",
     "output_type": "stream",
     "text": [
      "<class 'tensorflow.python.data.ops.iterator_ops.Iterator'>\n"
     ]
    }
   ],
   "source": [
    "tmp = dataset.make_one_shot_iterator()\n",
    "print(type(tmp))"
   ]
  },
  {
   "cell_type": "code",
   "execution_count": 16,
   "metadata": {},
   "outputs": [
    {
     "ename": "TypeError",
     "evalue": "'method' object is not iterable",
     "output_type": "error",
     "traceback": [
      "\u001b[0;31m---------------------------------------------------------------------------\u001b[0m",
      "\u001b[0;31mTypeError\u001b[0m                                 Traceback (most recent call last)",
      "\u001b[0;32m<ipython-input-16-8145be2283eb>\u001b[0m in \u001b[0;36m<module>\u001b[0;34m()\u001b[0m\n\u001b[1;32m      1\u001b[0m \u001b[0;31m# sess.run(iterator.initializer)\u001b[0m\u001b[0;34m\u001b[0m\u001b[0;34m\u001b[0m\u001b[0m\n\u001b[0;32m----> 2\u001b[0;31m \u001b[0;32mfor\u001b[0m \u001b[0mx\u001b[0m \u001b[0;32min\u001b[0m \u001b[0mtmp\u001b[0m\u001b[0;34m:\u001b[0m\u001b[0;34m\u001b[0m\u001b[0m\n\u001b[0m\u001b[1;32m      3\u001b[0m     \u001b[0mprint\u001b[0m\u001b[0;34m(\u001b[0m\u001b[0mx\u001b[0m\u001b[0;34m)\u001b[0m\u001b[0;34m\u001b[0m\u001b[0m\n\u001b[1;32m      4\u001b[0m     \u001b[0;32mbreak\u001b[0m\u001b[0;34m\u001b[0m\u001b[0m\n",
      "\u001b[0;31mTypeError\u001b[0m: 'method' object is not iterable"
     ]
    }
   ],
   "source": [
    "# sess.run(iterator.initializer)\n",
    "for x in tmp:\n",
    "    print(x)\n",
    "    break"
   ]
  },
  {
   "cell_type": "code",
   "execution_count": null,
   "metadata": {},
   "outputs": [],
   "source": []
  },
  {
   "cell_type": "code",
   "execution_count": null,
   "metadata": {},
   "outputs": [],
   "source": []
  },
  {
   "cell_type": "code",
   "execution_count": null,
   "metadata": {},
   "outputs": [],
   "source": []
  },
  {
   "cell_type": "code",
   "execution_count": null,
   "metadata": {},
   "outputs": [],
   "source": []
  },
  {
   "cell_type": "code",
   "execution_count": null,
   "metadata": {},
   "outputs": [],
   "source": []
  },
  {
   "cell_type": "code",
   "execution_count": null,
   "metadata": {},
   "outputs": [],
   "source": []
  },
  {
   "cell_type": "code",
   "execution_count": null,
   "metadata": {},
   "outputs": [],
   "source": []
  },
  {
   "cell_type": "code",
   "execution_count": null,
   "metadata": {},
   "outputs": [],
   "source": []
  },
  {
   "cell_type": "code",
   "execution_count": null,
   "metadata": {},
   "outputs": [],
   "source": []
  },
  {
   "cell_type": "code",
   "execution_count": null,
   "metadata": {},
   "outputs": [],
   "source": []
  },
  {
   "cell_type": "code",
   "execution_count": null,
   "metadata": {},
   "outputs": [],
   "source": []
  }
 ],
 "metadata": {
  "kernelspec": {
   "display_name": "Python 3",
   "language": "python",
   "name": "python3"
  },
  "language_info": {
   "codemirror_mode": {
    "name": "ipython",
    "version": 3
   },
   "file_extension": ".py",
   "mimetype": "text/x-python",
   "name": "python",
   "nbconvert_exporter": "python",
   "pygments_lexer": "ipython3",
   "version": "3.6.5"
  }
 },
 "nbformat": 4,
 "nbformat_minor": 2
}
